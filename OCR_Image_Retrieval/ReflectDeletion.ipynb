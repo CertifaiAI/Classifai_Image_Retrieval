{
 "cells": [
  {
   "cell_type": "markdown",
   "metadata": {},
   "source": [
    "# Reflect Deletion\n",
    "After deleting all unwanted images in the output folder, run this script to reflect it on the original images and also csv file"
   ]
  },
  {
   "cell_type": "code",
   "execution_count": 2,
   "metadata": {},
   "outputs": [],
   "source": [
    "from ipyfilechooser import FileChooser\n",
    "import os\n",
    "import re\n",
    "import shutil"
   ]
  },
  {
   "cell_type": "markdown",
   "metadata": {},
   "source": [
    "# Paths Selection\n",
    "Once run, you can select files multiple times without rerun the script\n",
    "\n",
    "## Input Path\n",
    "select the original image path which needed to be reflected in this script"
   ]
  },
  {
   "cell_type": "code",
   "execution_count": 3,
   "metadata": {},
   "outputs": [
    {
     "data": {
      "application/vnd.jupyter.widget-view+json": {
       "model_id": "19a2deac3ca840b48eb4c2333d8c06f4",
       "version_major": 2,
       "version_minor": 0
      },
      "text/plain": [
       "FileChooser(path='/home/chuang010896', filename='', title='HTML(value='', layout=Layout(display='none'))', sho…"
      ]
     },
     "metadata": {},
     "output_type": "display_data"
    }
   ],
   "source": [
    "input_path_selector = FileChooser(os.getenv(\"HOME\"))\n",
    "display(input_path_selector)"
   ]
  },
  {
   "cell_type": "markdown",
   "metadata": {},
   "source": [
    "## Label File\n",
    "select the csv file which needed to be reflected in this script"
   ]
  },
  {
   "cell_type": "code",
   "execution_count": 4,
   "metadata": {},
   "outputs": [
    {
     "data": {
      "application/vnd.jupyter.widget-view+json": {
       "model_id": "2bbbb7daa1474a83a66fe74bc3ae4bb5",
       "version_major": 2,
       "version_minor": 0
      },
      "text/plain": [
       "FileChooser(path='/home/chuang010896', filename='', title='HTML(value='', layout=Layout(display='none'))', sho…"
      ]
     },
     "metadata": {},
     "output_type": "display_data"
    }
   ],
   "source": [
    "label_file_selector = FileChooser(os.getenv(\"HOME\"))\n",
    "label_file_selector.filter_pattern = '*.csv'\n",
    "display(label_file_selector)"
   ]
  },
  {
   "cell_type": "markdown",
   "metadata": {},
   "source": [
    "## Output Path\n",
    "select the output folder generated from Image Retrieval script"
   ]
  },
  {
   "cell_type": "code",
   "execution_count": 5,
   "metadata": {},
   "outputs": [
    {
     "data": {
      "application/vnd.jupyter.widget-view+json": {
       "model_id": "e6af57cccbac415ea6e402d552bacb39",
       "version_major": 2,
       "version_minor": 0
      },
      "text/plain": [
       "FileChooser(path='/home/chuang010896', filename='', title='HTML(value='', layout=Layout(display='none'))', sho…"
      ]
     },
     "metadata": {},
     "output_type": "display_data"
    }
   ],
   "source": [
    "output_path_selector = FileChooser(os.getenv(\"HOME\"))\n",
    "output_path_selector.show_only_dirs = True\n",
    "display(output_path_selector)"
   ]
  },
  {
   "cell_type": "markdown",
   "metadata": {},
   "source": [
    "## Result Path\n",
    "select the path to store all the reflected data"
   ]
  },
  {
   "cell_type": "code",
   "execution_count": 6,
   "metadata": {},
   "outputs": [
    {
     "data": {
      "application/vnd.jupyter.widget-view+json": {
       "model_id": "9c3b79587bd54e6c923ae7e6d6fdff1a",
       "version_major": 2,
       "version_minor": 0
      },
      "text/plain": [
       "FileChooser(path='/home/chuang010896', filename='', title='HTML(value='', layout=Layout(display='none'))', sho…"
      ]
     },
     "metadata": {},
     "output_type": "display_data"
    }
   ],
   "source": [
    "result_path_selector = FileChooser(os.getenv(\"HOME\"))\n",
    "result_path_selector.show_only_dirs = True\n",
    "display(result_path_selector)"
   ]
  },
  {
   "cell_type": "markdown",
   "metadata": {},
   "source": [
    "# Run after select all paths"
   ]
  },
  {
   "cell_type": "code",
   "execution_count": 244,
   "metadata": {},
   "outputs": [],
   "source": [
    "#Load Output Filename\n",
    "\n",
    "output_path = output_path_selector.selected\n",
    "images = set(os.listdir(output_path))\n",
    "\n",
    "#Mkdir for result folder\n",
    "input_path = input_path_selector.selected\n",
    "input_folder = input_path.split(os.path.sep)[-2]\n",
    "result_path = os.path.join(result_path_selector.selected,input_folder)\n",
    "\n",
    "#Create Output Path\n",
    "if not os.path.exists(result_path):\n",
    "    os.mkdir(result_path)\n",
    "else:\n",
    "    print(\"folder existed please check if the file already copy\")\n",
    "    exit()\n",
    "    \n",
    "\n",
    "#Copy Files\n",
    "#files not in output path will not be copied\n",
    "for files in os.listdir(input_path):\n",
    "    if(files[-4:] == \".csv\"):\n",
    "        continue\n",
    "    if(files in images):\n",
    "        shutil.copyfile(os.path.join(input_path,files), os.path.join(result_path,files))\n",
    "        \n",
    "#Copy csv\n",
    "label_filename = label_file_selector.selected_filename\n",
    "output_list = []\n",
    "\n",
    "with open(label_file_selector.selected, mode = 'r', newline='') as file:\n",
    "    \n",
    "    #remove csv header\n",
    "    next(file)\n",
    "    \n",
    "    for row in file.readlines():\n",
    "        \n",
    "        m = re.search('(.+)(.)(jpg|png|jpeg|JPG|JPEG|PNG|bmp)', row)\n",
    "        if m:\n",
    "            found = m.group(0)\n",
    "        \n",
    "        if found in images:\n",
    "            output_list.append(row)\n",
    "            \n",
    "with open(os.path.join(result_path,label_filename), 'w') as file:\n",
    "    file.writelines(\"%s\" % row for row in output_list)"
   ]
  }
 ],
 "metadata": {
  "kernelspec": {
   "display_name": "Python 3",
   "language": "python",
   "name": "python3"
  },
  "language_info": {
   "codemirror_mode": {
    "name": "ipython",
    "version": 3
   },
   "file_extension": ".py",
   "mimetype": "text/x-python",
   "name": "python",
   "nbconvert_exporter": "python",
   "pygments_lexer": "ipython3",
   "version": "3.8.5"
  }
 },
 "nbformat": 4,
 "nbformat_minor": 4
}
