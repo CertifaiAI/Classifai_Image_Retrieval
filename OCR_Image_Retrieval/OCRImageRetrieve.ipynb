{
 "cells": [
  {
   "cell_type": "markdown",
   "metadata": {},
   "source": [
    "# Retrieve Image ClassifAI"
   ]
  },
  {
   "cell_type": "code",
   "execution_count": 1,
   "metadata": {},
   "outputs": [],
   "source": [
    "from ipyfilechooser import FileChooser\n",
    "import os\n",
    "import cv2\n",
    "import numpy as np\n",
    "import re\n",
    "import shutil"
   ]
  },
  {
   "cell_type": "markdown",
   "metadata": {},
   "source": [
    "# Paths Selection\n",
    "Once run, you can select files multiple times without rerun the script\n",
    "\n",
    "### Select Image Path\n",
    "Select Image Folder"
   ]
  },
  {
   "cell_type": "code",
   "execution_count": 2,
   "metadata": {},
   "outputs": [
    {
     "data": {
      "application/vnd.jupyter.widget-view+json": {
       "model_id": "310cb38445dc4814ad38de2b532dab30",
       "version_major": 2,
       "version_minor": 0
      },
      "text/plain": [
       "FileChooser(path='/home/chuang010896', filename='', title='HTML(value='', layout=Layout(display='none'))', sho…"
      ]
     },
     "metadata": {},
     "output_type": "display_data"
    }
   ],
   "source": [
    "image_path_selector = FileChooser(os.getenv(\"HOME\"))\n",
    "display(image_path_selector)"
   ]
  },
  {
   "cell_type": "markdown",
   "metadata": {},
   "source": [
    "### Select Label File\n",
    "Select csv label file"
   ]
  },
  {
   "cell_type": "code",
   "execution_count": 3,
   "metadata": {},
   "outputs": [
    {
     "data": {
      "application/vnd.jupyter.widget-view+json": {
       "model_id": "c50e6cb71a804a44964bf5c6ccfcab8b",
       "version_major": 2,
       "version_minor": 0
      },
      "text/plain": [
       "FileChooser(path='/home/chuang010896', filename='', title='HTML(value='', layout=Layout(display='none'))', sho…"
      ]
     },
     "metadata": {},
     "output_type": "display_data"
    }
   ],
   "source": [
    "label_file_selector = FileChooser(os.getenv(\"HOME\"))\n",
    "label_file_selector.filter_pattern = '*.csv'\n",
    "display(label_file_selector)"
   ]
  },
  {
   "cell_type": "markdown",
   "metadata": {},
   "source": [
    "### Select Output Path\n",
    "Select Output Folder\n",
    "\n",
    "*Note: Image will be written in {output_path}/{image_path name} directory*\n",
    "\n",
    "*Example: Output path = {/home/x/Output}, Image path = /home/x/{Image} => Image will be written in /home/x/Output/Image/xx.jpg*"
   ]
  },
  {
   "cell_type": "code",
   "execution_count": 4,
   "metadata": {},
   "outputs": [
    {
     "data": {
      "application/vnd.jupyter.widget-view+json": {
       "model_id": "1cf1a431021240e0a2dd03ffcbe61d55",
       "version_major": 2,
       "version_minor": 0
      },
      "text/plain": [
       "FileChooser(path='/home/chuang010896', filename='', title='HTML(value='', layout=Layout(display='none'))', sho…"
      ]
     },
     "metadata": {},
     "output_type": "display_data"
    }
   ],
   "source": [
    "output_path_selector = FileChooser(os.getenv(\"HOME\"))\n",
    "output_path_selector.show_only_dirs = True\n",
    "display(output_path_selector)"
   ]
  },
  {
   "cell_type": "markdown",
   "metadata": {},
   "source": [
    "# Run after selecting all paths"
   ]
  },
  {
   "cell_type": "code",
   "execution_count": null,
   "metadata": {},
   "outputs": [],
   "source": [
    "#Create a Label class to take value from csv file\n",
    "class Label:\n",
    "    def __init__(self, x1, y1, x2, y2, label):\n",
    "        self.x1 = x1\n",
    "        self.x2 = x2\n",
    "        self.y1 = y1\n",
    "        self.y2 = y2\n",
    "        self.label = label\n",
    "        \n",
    "    def width(self):\n",
    "        return self.x2 - self.x1\n",
    "    \n",
    "    def height(self):\n",
    "        return self.y2 - self.y1\n",
    "        \n",
    "        \n",
    "#Using dictionary to save all bounding boxes and labels for respective images\n",
    "label_dict = dict()\n",
    "label_dict.clear()\n",
    "\n",
    "with open(label_file_selector.selected, mode = 'r', newline='') as file:\n",
    "    \n",
    "    #remove csv header\n",
    "    next(file)\n",
    "    \n",
    "    #dictionary loading\n",
    "    for row in file.readlines():\n",
    "        \n",
    "        m = re.search('(.+)(.)(jpg|png|jpeg|JPG|JPEG|PNG|bmp)', row)\n",
    "        if m:\n",
    "            found = m.group(0)\n",
    "        \n",
    "        filename = found\n",
    "        \n",
    "        splitted = row[:-1][len(found)+1:].split(',')\n",
    "        x1 = int(float(splitted[0]))\n",
    "        y1 = int(float(splitted[1]))\n",
    "        x2 = int(float(splitted[2]))\n",
    "        y2 = int(float(splitted[3]))\n",
    "        \n",
    "        #Join back the commas in the label\n",
    "        label = ','.join(splitted[4:])\n",
    "        if filename not in label_dict:\n",
    "            label_dict[filename] = []\n",
    "        label_dict[filename].append(Label(x1, y1, x2, y2, label))\n",
    "\n",
    "##Write to Output\n",
    "#check if image path is a directory\n",
    "image_path = image_path_selector.selected\n",
    "image_folder = image_path.split(os.path.sep)[-2]\n",
    "output_path = os.path.join(output_path_selector.selected,image_folder)\n",
    "\n",
    "if not os.path.isdir(image_path):\n",
    "    \n",
    "    print(\"not a directory\")\n",
    "else:\n",
    "    #Create Output Path\n",
    "    if  not os.path.exists(output_path):\n",
    "        os.mkdir(output_path)\n",
    "    \n",
    "    for filename in os.listdir(image_path):\n",
    "        \n",
    "        if filename in label_dict:\n",
    "            mat = cv2.imread(os.path.join(image_path,filename))\n",
    "            \n",
    "            mat = cv2.hconcat([mat, mat])\n",
    "            \n",
    "            #Choose color for text & rectangle\n",
    "            color = (0, 255, 0)\n",
    "            \n",
    "            for label in label_dict[filename]:\n",
    "                \n",
    "                if label.y2 > mat.shape[0] or label.x2 > mat.shape[1]:\n",
    "                    continue\n",
    "                \n",
    "                #Rectangle size \n",
    "                rect_width = label.width()\n",
    "                rect_height = label.height()\n",
    "                \n",
    "                rect_thick = rect_height/100\n",
    "                font = min(rect_thick * 2.2, 2)\n",
    "                font_thick = int(2 * font)\n",
    "                \n",
    "                cv2.rectangle(mat, (int(label.x1), int(label.y1)), (int(label.x2), int(label.y2)) , color, int(rect_thick))\n",
    "                cv2.rectangle(mat, (int(label.x1) + mat.shape[1] // 2, int(label.y1)), (int(label.x2) + mat.shape[1] // 2, int(label.y2)) , color, int(rect_thick))\n",
    "                \n",
    "                 \n",
    "                #Text box\n",
    "                font = cv2.FONT_HERSHEY_COMPLEX_SMALL\n",
    "                font_color = (255, 255, 255)\n",
    "                thick = 1\n",
    "                font_size = 0.9\n",
    "                (text_width, text_height) = cv2.getTextSize(label.label, font, font_size, thick)[0]\n",
    "                text_height += 15\n",
    "                \n",
    "                mask = np.zeros((text_height, text_width,3), dtype=np.uint8)\n",
    "                \n",
    "                mask = cv2.putText(mask, label.label, (0,15), font, font_size, font_color, thick, cv2.LINE_AA)\n",
    "                \n",
    "                if rect_height / rect_width > 3:\n",
    "                    mask = cv2.rotate(mask, cv2.cv2.ROTATE_90_COUNTERCLOCKWISE) \n",
    "                \n",
    "                mask = cv2.resize(mask, (rect_width, rect_height))\n",
    "                \n",
    "                mat[label.y1: label.y1 + rect_height, label.x1: label.x1 + rect_width, :] = mask\n",
    "                \n",
    "            cv2.imwrite(os.path.join(output_path,filename), mat)"
   ]
  }
 ],
 "metadata": {
  "kernelspec": {
   "display_name": "base",
   "language": "python",
   "name": "base"
  },
  "language_info": {
   "codemirror_mode": {
    "name": "ipython",
    "version": 3
   },
   "file_extension": ".py",
   "mimetype": "text/x-python",
   "name": "python",
   "nbconvert_exporter": "python",
   "pygments_lexer": "ipython3",
   "version": "3.8.5"
  }
 },
 "nbformat": 4,
 "nbformat_minor": 4
}
