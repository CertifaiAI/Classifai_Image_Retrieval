{
 "cells": [
  {
   "cell_type": "markdown",
   "metadata": {},
   "source": [
    "# Merge Folders"
   ]
  },
  {
   "cell_type": "code",
   "execution_count": 1,
   "metadata": {},
   "outputs": [],
   "source": [
    "from ipyfilechooser import FileChooser\n",
    "import os\n",
    "import re\n",
    "import shutil"
   ]
  },
  {
   "cell_type": "markdown",
   "metadata": {},
   "source": [
    "# Paths Selection\n",
    "Once run, you can select files multiple times without rerun the script\n",
    "\n",
    "### Select Input Path\n",
    "Select folder that contains folders to merge"
   ]
  },
  {
   "cell_type": "code",
   "execution_count": 2,
   "metadata": {},
   "outputs": [
    {
     "data": {
      "application/vnd.jupyter.widget-view+json": {
       "model_id": "23b7fd422965493c8293bd2c1743c1b6",
       "version_major": 2,
       "version_minor": 0
      },
      "text/plain": [
       "FileChooser(path='/home/chuang010896', filename='', title='HTML(value='', layout=Layout(display='none'))', sho…"
      ]
     },
     "metadata": {},
     "output_type": "display_data"
    }
   ],
   "source": [
    "folder_path_selector = FileChooser(os.getenv(\"HOME\"))\n",
    "display(folder_path_selector)"
   ]
  },
  {
   "cell_type": "markdown",
   "metadata": {},
   "source": [
    "### Select Output Path\n",
    "Select output path for image merge"
   ]
  },
  {
   "cell_type": "code",
   "execution_count": 3,
   "metadata": {},
   "outputs": [
    {
     "data": {
      "application/vnd.jupyter.widget-view+json": {
       "model_id": "74c06865018046a2a33e3e466a8c6b82",
       "version_major": 2,
       "version_minor": 0
      },
      "text/plain": [
       "FileChooser(path='/home/chuang010896', filename='', title='HTML(value='', layout=Layout(display='none'))', sho…"
      ]
     },
     "metadata": {},
     "output_type": "display_data"
    }
   ],
   "source": [
    "output_path_selector = FileChooser(os.getenv(\"HOME\"))\n",
    "display(output_path_selector)"
   ]
  },
  {
   "cell_type": "markdown",
   "metadata": {},
   "source": [
    "# Run after selecting all paths"
   ]
  },
  {
   "cell_type": "code",
   "execution_count": 51,
   "metadata": {},
   "outputs": [],
   "source": [
    "#Mkdir\n",
    "folder_path = folder_path_selector.selected\n",
    "folder_name = folder_path.split(os.path.sep)[-2]\n",
    "output_path = os.path.join(output_path_selector.selected, folder_name)\n",
    "\n",
    "if not os.path.exists(output_path):\n",
    "    os.mkdir(output_path)\n",
    "else:\n",
    "    print(\"folder existed please check\")\n",
    "    exit()\n",
    "    \n",
    "#Configure name of new image\n",
    "prefix = \"image_\"\n",
    "counter = 1\n",
    "\n",
    "#Start merge and rename\n",
    "with open(os.path.join(output_path,\"label.csv\"), \"w\") as filewrite:\n",
    "    filewrite.writelines(\"filename,x1,y1,x2,y2,label\")\n",
    "    \n",
    "for image_folder in os.listdir(folder_path):\n",
    "    image_folder_path = os.path.join(folder_path, image_folder)\n",
    "    file_list = os.listdir(image_folder_path)\n",
    "    \n",
    "    #Search csv file\n",
    "    for files in file_list:\n",
    "        if files[-4:] == \".csv\":\n",
    "            csv = files\n",
    "\n",
    "    name_dict = dict()\n",
    "\n",
    "    for files in file_list:\n",
    "        if files[-4:] == \".csv\":\n",
    "            continue\n",
    "\n",
    "        postfix = files[files.rfind(\".\"):]\n",
    "        filename = prefix + str(counter).zfill(5) + postfix\n",
    "        name_dict[files] = filename\n",
    "        shutil.copyfile(os.path.join(image_folder_path,files), os.path.join(output_path,filename))\n",
    "        counter += 1\n",
    "    \n",
    "    with open(os.path.join(image_folder_path, csv), \"r\") as fileread:\n",
    "        with open(os.path.join(output_path, \"label.csv\"), \"a\") as filewrite:\n",
    "            for row in fileread.readlines():\n",
    "        \n",
    "                m = re.search('(.+)(.)(jpg|png|jpeg|JPG|JPEG|PNG|bmp)', row)\n",
    "                if m:\n",
    "                    found = m.group(0)\n",
    "                    \n",
    "                if name_dict[found] is not None:\n",
    "                    filewrite.writelines(name_dict[found] + row[len(found):])"
   ]
  }
 ],
 "metadata": {
  "kernelspec": {
   "display_name": "base",
   "language": "python",
   "name": "base"
  },
  "language_info": {
   "codemirror_mode": {
    "name": "ipython",
    "version": 3
   },
   "file_extension": ".py",
   "mimetype": "text/x-python",
   "name": "python",
   "nbconvert_exporter": "python",
   "pygments_lexer": "ipython3",
   "version": "3.8.5"
  }
 },
 "nbformat": 4,
 "nbformat_minor": 4
}
