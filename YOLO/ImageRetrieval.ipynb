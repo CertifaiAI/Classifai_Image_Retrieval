{
 "cells": [
  {
   "cell_type": "markdown",
   "id": "986f6c4d",
   "metadata": {},
   "source": [
    "# YOLO Image Retrieval"
   ]
  },
  {
   "cell_type": "code",
   "execution_count": 6,
   "id": "ca1d130d",
   "metadata": {},
   "outputs": [],
   "source": [
    "from ipyfilechooser import FileChooser\n",
    "import os\n",
    "import cv2\n",
    "import numpy as np\n",
    "import re\n",
    "import random"
   ]
  },
  {
   "cell_type": "markdown",
   "id": "d033b424",
   "metadata": {},
   "source": [
    "# Paths Selection\n",
    "Once run, you can select files multiple times without rerun the script\n",
    "\n",
    "### Select Image Path\n",
    "Select Image Folder"
   ]
  },
  {
   "cell_type": "code",
   "execution_count": 7,
   "id": "008ef196",
   "metadata": {},
   "outputs": [
    {
     "data": {
      "application/vnd.jupyter.widget-view+json": {
       "model_id": "d517345c09744322af72fee7c19e6456",
       "version_major": 2,
       "version_minor": 0
      },
      "text/plain": [
       "FileChooser(path='/home/chuang010896', filename='', title='HTML(value='', layout=Layout(display='none'))', sho…"
      ]
     },
     "metadata": {},
     "output_type": "display_data"
    }
   ],
   "source": [
    "image_path_selector = FileChooser(os.getenv(\"HOME\"))\n",
    "image_path_selector.show_only_dirs = True\n",
    "display(image_path_selector)"
   ]
  },
  {
   "cell_type": "markdown",
   "id": "3935a283",
   "metadata": {},
   "source": [
    "### Select Label Path\n",
    "Select Label Folder"
   ]
  },
  {
   "cell_type": "code",
   "execution_count": 8,
   "id": "581d7fe9",
   "metadata": {},
   "outputs": [
    {
     "data": {
      "application/vnd.jupyter.widget-view+json": {
       "model_id": "3c326b7c7a8946ef9ec0284ba35924b7",
       "version_major": 2,
       "version_minor": 0
      },
      "text/plain": [
       "FileChooser(path='/home/chuang010896', filename='', title='HTML(value='', layout=Layout(display='none'))', sho…"
      ]
     },
     "metadata": {},
     "output_type": "display_data"
    }
   ],
   "source": [
    "label_path_selector = FileChooser(os.getenv(\"HOME\"))\n",
    "label_path_selector.show_only_dirs = True\n",
    "display(label_path_selector)"
   ]
  },
  {
   "cell_type": "markdown",
   "id": "c032c93b",
   "metadata": {},
   "source": [
    "### Select Label File\n",
    "Select *label.txt* file"
   ]
  },
  {
   "cell_type": "code",
   "execution_count": 9,
   "id": "9658ec7c",
   "metadata": {},
   "outputs": [
    {
     "data": {
      "application/vnd.jupyter.widget-view+json": {
       "model_id": "67f3da9831534a48b98d314f88274711",
       "version_major": 2,
       "version_minor": 0
      },
      "text/plain": [
       "FileChooser(path='/home/chuang010896', filename='', title='HTML(value='', layout=Layout(display='none'))', sho…"
      ]
     },
     "metadata": {},
     "output_type": "display_data"
    }
   ],
   "source": [
    "label_file_selector = FileChooser(os.getenv(\"HOME\"))\n",
    "label_file_selector.filter_pattern = '*.txt'\n",
    "display(label_file_selector)"
   ]
  },
  {
   "cell_type": "markdown",
   "id": "0c522ca8",
   "metadata": {},
   "source": [
    "### Select Output Path\n",
    "Select Output Folder\n",
    "\n",
    "*Note: Image will be written in {output_path}/{image_path name} directory*\n",
    "\n",
    "*Example: Output path = {/home/x/Output}, Image path = /home/x/{Image} => Image will be written in /home/x/Output/Image/xx.jpg*"
   ]
  },
  {
   "cell_type": "code",
   "execution_count": 10,
   "id": "e76ede85",
   "metadata": {},
   "outputs": [
    {
     "data": {
      "application/vnd.jupyter.widget-view+json": {
       "model_id": "54cceda6c4bd46439c9e2b9673f777d9",
       "version_major": 2,
       "version_minor": 0
      },
      "text/plain": [
       "FileChooser(path='/home/chuang010896', filename='', title='HTML(value='', layout=Layout(display='none'))', sho…"
      ]
     },
     "metadata": {},
     "output_type": "display_data"
    }
   ],
   "source": [
    "output_path_selector = FileChooser(os.getenv(\"HOME\"))\n",
    "output_path_selector.show_only_dirs = True\n",
    "display(output_path_selector)"
   ]
  },
  {
   "cell_type": "markdown",
   "id": "7806a2fc",
   "metadata": {},
   "source": [
    "# Run after selecting all paths"
   ]
  },
  {
   "cell_type": "code",
   "execution_count": 11,
   "id": "e1a0f9d6",
   "metadata": {},
   "outputs": [],
   "source": [
    "#Create a Label class representing each bbox\n",
    "class Label:\n",
    "    def __init__(self, row):\n",
    "        self.x = float(row[1])\n",
    "        self.y = float(row[2])\n",
    "        self.w = float(row[3])\n",
    "        self.h = float(row[4])\n",
    "        self.label = int(row[0])\n",
    "        \n",
    "    def getWidth(self):\n",
    "        return self.w * self.width\n",
    "    \n",
    "    def getHeight(self):\n",
    "        return self.h * self.height\n",
    "    \n",
    "    def setImageSize(self, size):\n",
    "        self.width = size[1]\n",
    "        self.height = size[0]\n",
    "        \n",
    "    def botleft(self, offsetx = 0, offsety = 0):\n",
    "        return (int((self.x - (self.w / 2)) * self.width) + offsetx, int((self.y + (self.h / 2)) * self.height) + offsety)\n",
    "    \n",
    "    def topleft(self, offsetx = 0, offsety = 0):\n",
    "        return (int((self.x - (self.w / 2)) * self.width) + offsetx, int((self.y - (self.h / 2)) * self.height) + offsety)\n",
    "    \n",
    "    def botright(self, offsetx = 0, offsety = 0):\n",
    "        return (int((self.x + (self.w / 2)) * self.width) + offsetx, int((self.y + (self.h / 2)) * self.height) + offsety)\n",
    "    \n",
    "\n",
    "        \n",
    "#Using dictionary to save all bounding boxes and labels for respective images\n",
    "label_dict = dict()\n",
    "label_dict.clear()\n",
    "\n",
    "#define label path\n",
    "label_path = label_path_selector.selected\n",
    "\n",
    "#load label dict\n",
    "if not os.path.isdir(label_path):\n",
    "    \n",
    "    print(\"not a directory\")\n",
    "    \n",
    "else:\n",
    "    \n",
    "    for filename in os.listdir(label_path):\n",
    "        \n",
    "        if filename[-4:] != (\".txt\"):\n",
    "            continue\n",
    "        \n",
    "        file = os.path.join(label_path, filename)\n",
    "        \n",
    "        with open(file, mode = 'r', newline = '') as f:\n",
    "            \n",
    "            label_list = list()\n",
    "            update = True\n",
    "            \n",
    "            for row in f.read().splitlines():\n",
    "                \n",
    "                element = row[:-1].split(' ')\n",
    "                \n",
    "                if len(element) != 5:\n",
    "                    update = False\n",
    "                    break\n",
    "        \n",
    "                label_list.append(Label(element))\n",
    "            \n",
    "            if update:\n",
    "                label_dict[filename[:-4]] = label_list\n",
    "                \n",
    "#Building class list\n",
    "class_file = label_file_selector.selected\n",
    "class_list = list()\n",
    "\n",
    "with open(class_file, mode = 'r', newline = '') as f:\n",
    "    class_list = f.read().splitlines()\n",
    "    \n",
    "    \n",
    "#Building color list    \n",
    "color_list = list()\n",
    "#choose color for class\n",
    "def random_color(lst):\n",
    "    rgbl=[255,0,0]\n",
    "    random.shuffle(rgbl)\n",
    "    if (tuple(rgbl) in lst):\n",
    "        return random_color(lst)\n",
    "    return tuple(rgbl)\n",
    "\n",
    "for i in range(len(class_list)):\n",
    "    color_list.append(random_color(color_list))\n",
    "    \n",
    "\n",
    "##Write to Output\n",
    "#check if image path is a directory\n",
    "image_path = image_path_selector.selected\n",
    "image_folder = image_path.split(os.path.sep)[-2]\n",
    "output_path = os.path.join(output_path_selector.selected,image_folder)\n",
    "\n",
    "if not os.path.isdir(image_path):\n",
    "    \n",
    "    print(\"not a directory\")\n",
    "else:\n",
    "    #Create Output Path\n",
    "    if  not os.path.exists(output_path):\n",
    "        os.mkdir(output_path)\n",
    "    \n",
    "    for filename in os.listdir(image_path):\n",
    "        \n",
    "        #Only load Images in the folder\n",
    "        splitter = filename.rfind(\".\")\n",
    "        \n",
    "        ext = filename[splitter:]\n",
    "        \n",
    "        isImage = re.search('(.)(jpg|png|jpeg|JPG|JPEG|PNG|bmp)', ext)\n",
    "        \n",
    "        if not isImage:\n",
    "            continue\n",
    "        \n",
    "        mat = cv2.imread(os.path.join(image_path,filename))\n",
    "        \n",
    "        fix_h = 400\n",
    "\n",
    "        ratio = mat.shape[1]/mat.shape[0]\n",
    "\n",
    "        fix_w = int(fix_h * ratio)\n",
    "\n",
    "        mat = cv2.resize(mat, (fix_w, fix_h), interpolation = cv2.INTER_AREA)\n",
    "\n",
    "        #Duplicate image for easy checking\n",
    "        mat2 = cv2.hconcat([mat, mat])\n",
    "            \n",
    "        name = filename[:splitter]\n",
    "        \n",
    "        if name in label_dict:\n",
    "\n",
    "            for label in label_dict[name]:\n",
    "                \n",
    "                label.setImageSize(mat.shape)\n",
    "                \n",
    "                color = color_list[label.label]\n",
    "                classes = class_list[label.label]\n",
    "\n",
    "                #Rectangle size \n",
    "                rect_width = label.getWidth()\n",
    "                rect_height = label.getHeight()\n",
    "                min_dim = min(rect_width, rect_height)\n",
    "                rect_thick = int(min_dim // 150)\n",
    "                \n",
    "                #Draw rectangle\n",
    "                cv2.rectangle(mat2, label.topleft(), label.botright(), color, rect_thick)\n",
    "                cv2.rectangle(mat2, label.topleft(offsetx = mat.shape[1]), label.botright(offsetx = mat.shape[1]), color, rect_thick)\n",
    "\n",
    "                #Text box\n",
    "                font = cv2.FONT_HERSHEY_COMPLEX_SMALL\n",
    "                font_color = (255, 255, 255)\n",
    "                thick = 10\n",
    "                font_size = max(int(min_dim // 150),3)\n",
    "                cv2.rectangle(mat2, label.botleft(offsety = -font_size * 15), label.botleft(offsetx = len(classes) * font_size * 15), color, -1)\n",
    "                cv2.putText(mat2, classes, label.botleft(), font, font_size, font_color, font//2 , cv2.LINE_AA)\n",
    "                \n",
    "        cv2.imwrite(os.path.join(output_path,filename), mat2)"
   ]
  },
  {
   "cell_type": "code",
   "execution_count": null,
   "id": "conservative-gender",
   "metadata": {},
   "outputs": [],
   "source": []
  }
 ],
 "metadata": {
  "kernelspec": {
   "display_name": "Python 3",
   "language": "python",
   "name": "python3"
  },
  "language_info": {
   "codemirror_mode": {
    "name": "ipython",
    "version": 3
   },
   "file_extension": ".py",
   "mimetype": "text/x-python",
   "name": "python",
   "nbconvert_exporter": "python",
   "pygments_lexer": "ipython3",
   "version": "3.7.10"
  }
 },
 "nbformat": 4,
 "nbformat_minor": 5
}
