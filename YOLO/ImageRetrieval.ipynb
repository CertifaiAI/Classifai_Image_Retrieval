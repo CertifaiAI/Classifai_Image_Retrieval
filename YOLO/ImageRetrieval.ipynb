{
 "cells": [
  {
   "cell_type": "markdown",
   "id": "1d3fb980",
   "metadata": {},
   "source": [
    "# YOLO Image Retrieval"
   ]
  },
  {
   "cell_type": "code",
   "execution_count": 7,
   "id": "1fad44ae",
   "metadata": {},
   "outputs": [],
   "source": [
    "from ipyfilechooser import FileChooser\n",
    "import os\n",
    "import cv2\n",
    "import numpy as np\n",
    "import re\n",
    "import random"
   ]
  },
  {
   "cell_type": "markdown",
   "id": "90006b01",
   "metadata": {},
   "source": [
    "# Paths Selection\n",
    "Once run, you can select files multiple times without rerun the script\n",
    "\n",
    "### Select Image Path\n",
    "Select Image Folder"
   ]
  },
  {
   "cell_type": "code",
   "execution_count": 12,
   "id": "7b84d7c8",
   "metadata": {},
   "outputs": [
    {
     "data": {
      "application/vnd.jupyter.widget-view+json": {
       "model_id": "bf30577cf9024b4881fd6c953e181cca",
       "version_major": 2,
       "version_minor": 0
      },
      "text/plain": [
       "FileChooser(path='/home/chuang010896/Classifai_Image_Retrieval/YOLO', filename='', title='HTML(value='', layou…"
      ]
     },
     "metadata": {},
     "output_type": "display_data"
    }
   ],
   "source": [
    "image_path_selector = FileChooser()\n",
    "image_path_selector.show_only_dirs = True\n",
    "display(image_path_selector)"
   ]
  },
  {
   "cell_type": "markdown",
   "id": "ef068fa5",
   "metadata": {},
   "source": [
    "### Select Label Path\n",
    "Select Label Folder"
   ]
  },
  {
   "cell_type": "code",
   "execution_count": 13,
   "id": "c307a5cc",
   "metadata": {},
   "outputs": [
    {
     "data": {
      "application/vnd.jupyter.widget-view+json": {
       "model_id": "b8755f33fd364e6dae0694ef131aeb45",
       "version_major": 2,
       "version_minor": 0
      },
      "text/plain": [
       "FileChooser(path='/home/chuang010896/Classifai_Image_Retrieval/YOLO', filename='', title='HTML(value='', layou…"
      ]
     },
     "metadata": {},
     "output_type": "display_data"
    }
   ],
   "source": [
    "label_path_selector = FileChooser()\n",
    "label_path_selector.show_only_dirs = True\n",
    "display(label_path_selector)"
   ]
  },
  {
   "cell_type": "markdown",
   "id": "9b23b042",
   "metadata": {},
   "source": [
    "### Select Label File\n",
    "Select *label.txt* file"
   ]
  },
  {
   "cell_type": "code",
   "execution_count": 14,
   "id": "be5cc341",
   "metadata": {},
   "outputs": [
    {
     "data": {
      "application/vnd.jupyter.widget-view+json": {
       "model_id": "b488203086b04706a80f61974c546635",
       "version_major": 2,
       "version_minor": 0
      },
      "text/plain": [
       "FileChooser(path='/home/chuang010896/Classifai_Image_Retrieval/YOLO', filename='', title='HTML(value='', layou…"
      ]
     },
     "metadata": {},
     "output_type": "display_data"
    }
   ],
   "source": [
    "label_file_selector = FileChooser()\n",
    "label_file_selector.filter_pattern = '*.txt'\n",
    "display(label_file_selector)"
   ]
  },
  {
   "cell_type": "markdown",
   "id": "3f95e95c",
   "metadata": {},
   "source": [
    "### Select Output Path\n",
    "Select Output Folder\n",
    "\n",
    "*Note: Image will be written in {output_path}/{image_path name} directory*\n",
    "\n",
    "*Example: Output path = {/home/x/Output}, Image path = /home/x/{Image} => Image will be written in /home/x/Output/Image/xx.jpg*"
   ]
  },
  {
   "cell_type": "code",
   "execution_count": 15,
   "id": "d3bb6392",
   "metadata": {},
   "outputs": [
    {
     "data": {
      "application/vnd.jupyter.widget-view+json": {
       "model_id": "258dd96c12784e8e842f691b40ad6880",
       "version_major": 2,
       "version_minor": 0
      },
      "text/plain": [
       "FileChooser(path='/home/chuang010896/Classifai_Image_Retrieval/YOLO', filename='', title='HTML(value='', layou…"
      ]
     },
     "metadata": {},
     "output_type": "display_data"
    }
   ],
   "source": [
    "output_path_selector = FileChooser()\n",
    "output_path_selector.show_only_dirs = True\n",
    "display(output_path_selector)"
   ]
  },
  {
   "cell_type": "markdown",
   "id": "f55450c0",
   "metadata": {},
   "source": [
    "# Run after selecting all paths"
   ]
  },
  {
   "cell_type": "code",
   "execution_count": 27,
   "id": "2c1101a4",
   "metadata": {},
   "outputs": [],
   "source": [
    "#Create a Label class representing each bbox\n",
    "class Label:\n",
    "    def __init__(self, row):\n",
    "        self.x = float(row[1])\n",
    "        self.y = float(row[2])\n",
    "        self.w = float(row[3])\n",
    "        self.h = float(row[4])\n",
    "        self.label = int(row[0])\n",
    "        \n",
    "    def getWidth(self):\n",
    "        return self.w * self.width\n",
    "    \n",
    "    def getHeight(self):\n",
    "        return self.h * self.height\n",
    "    \n",
    "    def setImageSize(self, size):\n",
    "        self.width = size[1]\n",
    "        self.height = size[0]\n",
    "        \n",
    "    def botleft(self, offsetx = 0, offsety = 0):\n",
    "        return (int((self.x - (self.w / 2)) * self.width) + offsetx, int((self.y + (self.h / 2)) * self.height) + offsety)\n",
    "    \n",
    "    def topleft(self, offsetx = 0, offsety = 0):\n",
    "        return (int((self.x - (self.w / 2)) * self.width) + offsetx, int((self.y - (self.h / 2)) * self.height) + offsety)\n",
    "    \n",
    "    def botright(self, offsetx = 0, offsety = 0):\n",
    "        return (int((self.x + (self.w / 2)) * self.width) + offsetx, int((self.y + (self.h / 2)) * self.height) + offsety)\n",
    "    \n",
    "\n",
    "        \n",
    "#Using dictionary to save all bounding boxes and labels for respective images\n",
    "label_dict = dict()\n",
    "label_dict.clear()\n",
    "\n",
    "#define label path\n",
    "label_path = label_path_selector.selected\n",
    "\n",
    "#load label dict\n",
    "if not os.path.isdir(label_path):\n",
    "    \n",
    "    print(\"not a directory\")\n",
    "    \n",
    "else:\n",
    "    \n",
    "    for filename in os.listdir(label_path):\n",
    "        \n",
    "        if filename[-4:] != (\".txt\"):\n",
    "            continue\n",
    "        \n",
    "        file = os.path.join(label_path, filename)\n",
    "        \n",
    "        with open(file, mode = 'r', newline = '') as f:\n",
    "            \n",
    "            label_list = list()\n",
    "            update = True\n",
    "            \n",
    "            for row in f.read().splitlines():\n",
    "                \n",
    "                element = row[:-1].split(' ')\n",
    "                \n",
    "                if len(element) != 5:\n",
    "                    update = False\n",
    "                    break\n",
    "        \n",
    "                label_list.append(Label(element))\n",
    "            \n",
    "            if update:\n",
    "                label_dict[filename[:-4]] = label_list\n",
    "                \n",
    "#Building class list\n",
    "class_file = label_file_selector.selected\n",
    "class_list = list()\n",
    "\n",
    "with open(class_file, mode = 'r', newline = '') as f:\n",
    "    class_list = f.read().splitlines()\n",
    "    \n",
    "    \n",
    "#Building color list    \n",
    "color_list = list()\n",
    "#choose color for class\n",
    "def random_color():\n",
    "    return tuple(random.randint(0, 230) for _ in range(3))\n",
    "\n",
    "for i in range(len(class_list)):\n",
    "    color_list.append(random_color())\n",
    "    \n",
    "\n",
    "##Write to Output\n",
    "#check if image path is a directory\n",
    "image_path = image_path_selector.selected\n",
    "image_folder = image_path.split(os.path.sep)[-2]\n",
    "output_path = os.path.join(output_path_selector.selected,image_folder)\n",
    "\n",
    "if not os.path.isdir(image_path):\n",
    "    \n",
    "    print(\"not a directory\")\n",
    "else:\n",
    "    #Create Output Path\n",
    "    if  not os.path.exists(output_path):\n",
    "        os.mkdir(output_path)\n",
    "    \n",
    "    for filename in os.listdir(image_path):\n",
    "        \n",
    "        #Only load Images in the folder\n",
    "        splitter = filename.rfind(\".\")\n",
    "        \n",
    "        ext = filename[splitter:]\n",
    "        \n",
    "        isImage = re.search('(.)(jpg|png|jpeg|JPG|JPEG|PNG|bmp)', ext)\n",
    "        \n",
    "        if not isImage:\n",
    "            continue\n",
    "        \n",
    "        mat = cv2.imread(os.path.join(image_path,filename))\n",
    "        \n",
    "        fix_h = 400\n",
    "\n",
    "        ratio = mat.shape[1]/mat.shape[0]\n",
    "\n",
    "        fix_w = int(fix_h * ratio)\n",
    "\n",
    "        mat = cv2.resize(mat, (fix_w, fix_h), interpolation = cv2.INTER_AREA)\n",
    "            \n",
    "        name = filename[:splitter]\n",
    "        \n",
    "        if name in label_dict:\n",
    "\n",
    "            for label in label_dict[name]:\n",
    "                \n",
    "                label.setImageSize(mat.shape)\n",
    "                \n",
    "                color = color_list[label.label]\n",
    "                classes = class_list[label.label]\n",
    "\n",
    "                #Rectangle size \n",
    "                rect_width = label.getWidth()\n",
    "                rect_height = label.getHeight()\n",
    "                min_dim = min(rect_width, rect_height)\n",
    "                rect_thick = max(int(min_dim // 100),1)\n",
    "                \n",
    "                #Draw rectangle\n",
    "                cv2.rectangle(mat, label.topleft(), label.botright(), color, rect_thick)\n",
    "\n",
    "                #Text box\n",
    "                tf = max(rect_thick - 1, 1)\n",
    "                t_size = cv2.getTextSize(classes, 0, fontScale=rect_thick / 3, thickness=tf)[0]\n",
    "                textbox_topright = label.topleft()[0] + t_size[0], label.topleft()[1] - t_size[1] - 3\n",
    "                cv2.rectangle(mat, label.topleft(), textbox_topright, color, -1, cv2.LINE_AA)  # filled\n",
    "                cv2.putText(mat, classes, (label.topleft()[0], label.topleft()[1] - 2), 0, rect_thick / 3, [225, 255, 255], thickness=tf, lineType=cv2.LINE_AA)\n",
    "                \n",
    "        cv2.imwrite(os.path.join(output_path,filename), mat)"
   ]
  },
  {
   "cell_type": "code",
   "execution_count": null,
   "id": "737bfe82",
   "metadata": {},
   "outputs": [],
   "source": []
  }
 ],
 "metadata": {
  "kernelspec": {
   "display_name": "Python 3",
   "language": "python",
   "name": "python3"
  },
  "language_info": {
   "codemirror_mode": {
    "name": "ipython",
    "version": 3
   },
   "file_extension": ".py",
   "mimetype": "text/x-python",
   "name": "python",
   "nbconvert_exporter": "python",
   "pygments_lexer": "ipython3",
   "version": "3.7.10"
  }
 },
 "nbformat": 4,
 "nbformat_minor": 5
}
